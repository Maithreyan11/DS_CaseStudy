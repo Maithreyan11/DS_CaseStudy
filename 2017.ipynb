{
 "cells": [
  {
   "cell_type": "markdown",
   "source": [
    "# ***Forbes Top 2000 (Year:2017)***"
   ],
   "metadata": {}
  },
  {
   "cell_type": "markdown",
   "source": [
    "## **Importing the required Libraries**\r\n"
   ],
   "metadata": {}
  },
  {
   "cell_type": "code",
   "execution_count": 3,
   "source": [
    "import pandas as pd\r\n",
    "import numpy as np\r\n",
    "import matplotlib .pyplot as plt\r\n",
    "import seaborn as sns\r\n"
   ],
   "outputs": [],
   "metadata": {}
  },
  {
   "cell_type": "markdown",
   "source": [
    "## **Read the Dataset**"
   ],
   "metadata": {}
  },
  {
   "cell_type": "code",
   "execution_count": 4,
   "source": [
    "df=pd.read_excel('DataSets/Forbes-2017.xlsx')"
   ],
   "outputs": [],
   "metadata": {}
  },
  {
   "cell_type": "code",
   "execution_count": 5,
   "source": [
    "df.shape\r\n"
   ],
   "outputs": [
    {
     "output_type": "execute_result",
     "data": {
      "text/plain": [
       "(2000, 8)"
      ]
     },
     "metadata": {},
     "execution_count": 5
    }
   ],
   "metadata": {}
  },
  {
   "cell_type": "code",
   "execution_count": 6,
   "source": [
    "df.columns"
   ],
   "outputs": [
    {
     "output_type": "execute_result",
     "data": {
      "text/plain": [
       "Index(['Rank', 'Name', 'Country', 'Sales', 'Profit', 'Assets', 'Market Value',\n",
       "       'Year'],\n",
       "      dtype='object')"
      ]
     },
     "metadata": {},
     "execution_count": 6
    }
   ],
   "metadata": {}
  },
  {
   "cell_type": "code",
   "execution_count": 7,
   "source": [
    "df.head()"
   ],
   "outputs": [
    {
     "output_type": "execute_result",
     "data": {
      "text/html": [
       "<div>\n",
       "<style scoped>\n",
       "    .dataframe tbody tr th:only-of-type {\n",
       "        vertical-align: middle;\n",
       "    }\n",
       "\n",
       "    .dataframe tbody tr th {\n",
       "        vertical-align: top;\n",
       "    }\n",
       "\n",
       "    .dataframe thead th {\n",
       "        text-align: right;\n",
       "    }\n",
       "</style>\n",
       "<table border=\"1\" class=\"dataframe\">\n",
       "  <thead>\n",
       "    <tr style=\"text-align: right;\">\n",
       "      <th></th>\n",
       "      <th>Rank</th>\n",
       "      <th>Name</th>\n",
       "      <th>Country</th>\n",
       "      <th>Sales</th>\n",
       "      <th>Profit</th>\n",
       "      <th>Assets</th>\n",
       "      <th>Market Value</th>\n",
       "      <th>Year</th>\n",
       "    </tr>\n",
       "  </thead>\n",
       "  <tbody>\n",
       "    <tr>\n",
       "      <th>0</th>\n",
       "      <td>1</td>\n",
       "      <td>ICBC</td>\n",
       "      <td>China</td>\n",
       "      <td>151.381</td>\n",
       "      <td>41.9837</td>\n",
       "      <td>3473.238</td>\n",
       "      <td>229.805</td>\n",
       "      <td>2017</td>\n",
       "    </tr>\n",
       "    <tr>\n",
       "      <th>1</th>\n",
       "      <td>2</td>\n",
       "      <td>China Construction Bank</td>\n",
       "      <td>China</td>\n",
       "      <td>134.242</td>\n",
       "      <td>34.9814</td>\n",
       "      <td>3016.578</td>\n",
       "      <td>200.458</td>\n",
       "      <td>2017</td>\n",
       "    </tr>\n",
       "    <tr>\n",
       "      <th>2</th>\n",
       "      <td>3</td>\n",
       "      <td>Berkshire Hathaway</td>\n",
       "      <td>United States</td>\n",
       "      <td>222.935</td>\n",
       "      <td>24.0740</td>\n",
       "      <td>620.854</td>\n",
       "      <td>409.908</td>\n",
       "      <td>2017</td>\n",
       "    </tr>\n",
       "    <tr>\n",
       "      <th>3</th>\n",
       "      <td>4</td>\n",
       "      <td>JPMorgan Chase</td>\n",
       "      <td>United States</td>\n",
       "      <td>102.494</td>\n",
       "      <td>24.2310</td>\n",
       "      <td>2512.986</td>\n",
       "      <td>306.616</td>\n",
       "      <td>2017</td>\n",
       "    </tr>\n",
       "    <tr>\n",
       "      <th>4</th>\n",
       "      <td>5</td>\n",
       "      <td>Wells Fargo</td>\n",
       "      <td>United States</td>\n",
       "      <td>97.573</td>\n",
       "      <td>21.9380</td>\n",
       "      <td>1943.443</td>\n",
       "      <td>274.385</td>\n",
       "      <td>2017</td>\n",
       "    </tr>\n",
       "  </tbody>\n",
       "</table>\n",
       "</div>"
      ],
      "text/plain": [
       "   Rank                     Name        Country    Sales   Profit    Assets  \\\n",
       "0     1                     ICBC          China  151.381  41.9837  3473.238   \n",
       "1     2  China Construction Bank          China  134.242  34.9814  3016.578   \n",
       "2     3       Berkshire Hathaway  United States  222.935  24.0740   620.854   \n",
       "3     4           JPMorgan Chase  United States  102.494  24.2310  2512.986   \n",
       "4     5              Wells Fargo  United States   97.573  21.9380  1943.443   \n",
       "\n",
       "   Market Value  Year  \n",
       "0       229.805  2017  \n",
       "1       200.458  2017  \n",
       "2       409.908  2017  \n",
       "3       306.616  2017  \n",
       "4       274.385  2017  "
      ]
     },
     "metadata": {},
     "execution_count": 7
    }
   ],
   "metadata": {}
  },
  {
   "cell_type": "code",
   "execution_count": 8,
   "source": [
    "df.set_index('Rank',inplace=True)"
   ],
   "outputs": [],
   "metadata": {}
  },
  {
   "cell_type": "code",
   "execution_count": 9,
   "source": [
    "df.head()"
   ],
   "outputs": [
    {
     "output_type": "execute_result",
     "data": {
      "text/html": [
       "<div>\n",
       "<style scoped>\n",
       "    .dataframe tbody tr th:only-of-type {\n",
       "        vertical-align: middle;\n",
       "    }\n",
       "\n",
       "    .dataframe tbody tr th {\n",
       "        vertical-align: top;\n",
       "    }\n",
       "\n",
       "    .dataframe thead th {\n",
       "        text-align: right;\n",
       "    }\n",
       "</style>\n",
       "<table border=\"1\" class=\"dataframe\">\n",
       "  <thead>\n",
       "    <tr style=\"text-align: right;\">\n",
       "      <th></th>\n",
       "      <th>Name</th>\n",
       "      <th>Country</th>\n",
       "      <th>Sales</th>\n",
       "      <th>Profit</th>\n",
       "      <th>Assets</th>\n",
       "      <th>Market Value</th>\n",
       "      <th>Year</th>\n",
       "    </tr>\n",
       "    <tr>\n",
       "      <th>Rank</th>\n",
       "      <th></th>\n",
       "      <th></th>\n",
       "      <th></th>\n",
       "      <th></th>\n",
       "      <th></th>\n",
       "      <th></th>\n",
       "      <th></th>\n",
       "    </tr>\n",
       "  </thead>\n",
       "  <tbody>\n",
       "    <tr>\n",
       "      <th>1</th>\n",
       "      <td>ICBC</td>\n",
       "      <td>China</td>\n",
       "      <td>151.381</td>\n",
       "      <td>41.9837</td>\n",
       "      <td>3473.238</td>\n",
       "      <td>229.805</td>\n",
       "      <td>2017</td>\n",
       "    </tr>\n",
       "    <tr>\n",
       "      <th>2</th>\n",
       "      <td>China Construction Bank</td>\n",
       "      <td>China</td>\n",
       "      <td>134.242</td>\n",
       "      <td>34.9814</td>\n",
       "      <td>3016.578</td>\n",
       "      <td>200.458</td>\n",
       "      <td>2017</td>\n",
       "    </tr>\n",
       "    <tr>\n",
       "      <th>3</th>\n",
       "      <td>Berkshire Hathaway</td>\n",
       "      <td>United States</td>\n",
       "      <td>222.935</td>\n",
       "      <td>24.0740</td>\n",
       "      <td>620.854</td>\n",
       "      <td>409.908</td>\n",
       "      <td>2017</td>\n",
       "    </tr>\n",
       "    <tr>\n",
       "      <th>4</th>\n",
       "      <td>JPMorgan Chase</td>\n",
       "      <td>United States</td>\n",
       "      <td>102.494</td>\n",
       "      <td>24.2310</td>\n",
       "      <td>2512.986</td>\n",
       "      <td>306.616</td>\n",
       "      <td>2017</td>\n",
       "    </tr>\n",
       "    <tr>\n",
       "      <th>5</th>\n",
       "      <td>Wells Fargo</td>\n",
       "      <td>United States</td>\n",
       "      <td>97.573</td>\n",
       "      <td>21.9380</td>\n",
       "      <td>1943.443</td>\n",
       "      <td>274.385</td>\n",
       "      <td>2017</td>\n",
       "    </tr>\n",
       "  </tbody>\n",
       "</table>\n",
       "</div>"
      ],
      "text/plain": [
       "                         Name        Country    Sales   Profit    Assets  \\\n",
       "Rank                                                                       \n",
       "1                        ICBC          China  151.381  41.9837  3473.238   \n",
       "2     China Construction Bank          China  134.242  34.9814  3016.578   \n",
       "3          Berkshire Hathaway  United States  222.935  24.0740   620.854   \n",
       "4              JPMorgan Chase  United States  102.494  24.2310  2512.986   \n",
       "5                 Wells Fargo  United States   97.573  21.9380  1943.443   \n",
       "\n",
       "      Market Value  Year  \n",
       "Rank                      \n",
       "1          229.805  2017  \n",
       "2          200.458  2017  \n",
       "3          409.908  2017  \n",
       "4          306.616  2017  \n",
       "5          274.385  2017  "
      ]
     },
     "metadata": {},
     "execution_count": 9
    }
   ],
   "metadata": {}
  },
  {
   "cell_type": "code",
   "execution_count": null,
   "source": [],
   "outputs": [],
   "metadata": {}
  },
  {
   "cell_type": "code",
   "execution_count": 10,
   "source": [
    "df.isnull().sum()"
   ],
   "outputs": [
    {
     "output_type": "execute_result",
     "data": {
      "text/plain": [
       "Name            0\n",
       "Country         0\n",
       "Sales           2\n",
       "Profit          0\n",
       "Assets          1\n",
       "Market Value    1\n",
       "Year            0\n",
       "dtype: int64"
      ]
     },
     "metadata": {},
     "execution_count": 10
    }
   ],
   "metadata": {}
  },
  {
   "cell_type": "code",
   "execution_count": 11,
   "source": [
    "df.describe()"
   ],
   "outputs": [
    {
     "output_type": "execute_result",
     "data": {
      "text/html": [
       "<div>\n",
       "<style scoped>\n",
       "    .dataframe tbody tr th:only-of-type {\n",
       "        vertical-align: middle;\n",
       "    }\n",
       "\n",
       "    .dataframe tbody tr th {\n",
       "        vertical-align: top;\n",
       "    }\n",
       "\n",
       "    .dataframe thead th {\n",
       "        text-align: right;\n",
       "    }\n",
       "</style>\n",
       "<table border=\"1\" class=\"dataframe\">\n",
       "  <thead>\n",
       "    <tr style=\"text-align: right;\">\n",
       "      <th></th>\n",
       "      <th>Sales</th>\n",
       "      <th>Profit</th>\n",
       "      <th>Assets</th>\n",
       "      <th>Market Value</th>\n",
       "      <th>Year</th>\n",
       "    </tr>\n",
       "  </thead>\n",
       "  <tbody>\n",
       "    <tr>\n",
       "      <th>count</th>\n",
       "      <td>1998.000000</td>\n",
       "      <td>2000.000000</td>\n",
       "      <td>1999.000000</td>\n",
       "      <td>1999.000000</td>\n",
       "      <td>2000.0</td>\n",
       "    </tr>\n",
       "    <tr>\n",
       "      <th>mean</th>\n",
       "      <td>17.680185</td>\n",
       "      <td>1.241552</td>\n",
       "      <td>84.569579</td>\n",
       "      <td>24.423543</td>\n",
       "      <td>2017.0</td>\n",
       "    </tr>\n",
       "    <tr>\n",
       "      <th>std</th>\n",
       "      <td>29.329947</td>\n",
       "      <td>2.918115</td>\n",
       "      <td>261.044216</td>\n",
       "      <td>44.772378</td>\n",
       "      <td>0.0</td>\n",
       "    </tr>\n",
       "    <tr>\n",
       "      <th>min</th>\n",
       "      <td>0.001000</td>\n",
       "      <td>-13.042100</td>\n",
       "      <td>0.001000</td>\n",
       "      <td>0.072000</td>\n",
       "      <td>2017.0</td>\n",
       "    </tr>\n",
       "    <tr>\n",
       "      <th>25%</th>\n",
       "      <td>4.029250</td>\n",
       "      <td>0.317975</td>\n",
       "      <td>10.860500</td>\n",
       "      <td>6.639500</td>\n",
       "      <td>2017.0</td>\n",
       "    </tr>\n",
       "    <tr>\n",
       "      <th>50%</th>\n",
       "      <td>8.802500</td>\n",
       "      <td>0.612300</td>\n",
       "      <td>22.884000</td>\n",
       "      <td>11.944000</td>\n",
       "      <td>2017.0</td>\n",
       "    </tr>\n",
       "    <tr>\n",
       "      <th>75%</th>\n",
       "      <td>17.449500</td>\n",
       "      <td>1.279825</td>\n",
       "      <td>52.376000</td>\n",
       "      <td>24.362500</td>\n",
       "      <td>2017.0</td>\n",
       "    </tr>\n",
       "    <tr>\n",
       "      <th>max</th>\n",
       "      <td>485.252000</td>\n",
       "      <td>45.217000</td>\n",
       "      <td>3473.238000</td>\n",
       "      <td>752.039000</td>\n",
       "      <td>2017.0</td>\n",
       "    </tr>\n",
       "  </tbody>\n",
       "</table>\n",
       "</div>"
      ],
      "text/plain": [
       "             Sales       Profit       Assets  Market Value    Year\n",
       "count  1998.000000  2000.000000  1999.000000   1999.000000  2000.0\n",
       "mean     17.680185     1.241552    84.569579     24.423543  2017.0\n",
       "std      29.329947     2.918115   261.044216     44.772378     0.0\n",
       "min       0.001000   -13.042100     0.001000      0.072000  2017.0\n",
       "25%       4.029250     0.317975    10.860500      6.639500  2017.0\n",
       "50%       8.802500     0.612300    22.884000     11.944000  2017.0\n",
       "75%      17.449500     1.279825    52.376000     24.362500  2017.0\n",
       "max     485.252000    45.217000  3473.238000    752.039000  2017.0"
      ]
     },
     "metadata": {},
     "execution_count": 11
    }
   ],
   "metadata": {}
  },
  {
   "cell_type": "code",
   "execution_count": 12,
   "source": [
    "df['Sales'].fillna(value=df['Sales'].mean(), inplace=True)"
   ],
   "outputs": [],
   "metadata": {}
  },
  {
   "cell_type": "code",
   "execution_count": 13,
   "source": [
    "df['Market Value'].fillna(value=df['Market Value'].mean(), inplace=True)"
   ],
   "outputs": [],
   "metadata": {}
  },
  {
   "cell_type": "code",
   "execution_count": 14,
   "source": [
    "df['Country'].value_counts()"
   ],
   "outputs": [
    {
     "output_type": "execute_result",
     "data": {
      "text/plain": [
       "United States     564\n",
       "Japan             229\n",
       "China             200\n",
       "United Kingdom     91\n",
       "South Korea        64\n",
       "                 ... \n",
       "Jordan              1\n",
       "Pakistan            1\n",
       "Puerto Rico         1\n",
       "Oman                1\n",
       "Czech Republic      1\n",
       "Name: Country, Length: 61, dtype: int64"
      ]
     },
     "metadata": {},
     "execution_count": 14
    }
   ],
   "metadata": {}
  },
  {
   "cell_type": "code",
   "execution_count": 15,
   "source": [
    "country_vise=df.groupby(['Country'])['Sales'].agg('sum')"
   ],
   "outputs": [],
   "metadata": {}
  },
  {
   "cell_type": "code",
   "execution_count": 16,
   "source": [
    "country_vise.sort_values(ascending=False)"
   ],
   "outputs": [
    {
     "output_type": "execute_result",
     "data": {
      "text/plain": [
       "Country\n",
       "United States     11503.815000\n",
       "Japan              4195.509000\n",
       "China              3904.757000\n",
       "United Kingdom     1910.350185\n",
       "Germany            1843.269000\n",
       "                      ...     \n",
       "Jordan                2.373000\n",
       "Egypt                 2.234000\n",
       "Puerto Rico           1.933000\n",
       "Pakistan              1.613000\n",
       "Oman                  1.393000\n",
       "Name: Sales, Length: 61, dtype: float64"
      ]
     },
     "metadata": {},
     "execution_count": 16
    }
   ],
   "metadata": {}
  },
  {
   "cell_type": "code",
   "execution_count": 81,
   "source": [
    "country_vise.sort_values(ascending=False).plot.bar(figsize=(20, 10))"
   ],
   "outputs": [
    {
     "output_type": "execute_result",
     "data": {
      "text/plain": [
       "<AxesSubplot:xlabel='Country'>"
      ]
     },
     "metadata": {},
     "execution_count": 81
    },
    {
     "output_type": "display_data",
     "data": {
      "image/png": "[encoded data removed]",
      "text/plain": [
       "<Figure size 1440x720 with 1 Axes>"
      ]
     },
     "metadata": {
      "needs_background": "light"
     }
    }
   ],
   "metadata": {}
  }
 ],
 "metadata": {
  "orig_nbformat": 4,
  "language_info": {
   "name": "python",
   "version": "3.8.8",
   "mimetype": "text/x-python",
   "codemirror_mode": {
    "name": "ipython",
    "version": 3
   },
   "pygments_lexer": "ipython3",
   "nbconvert_exporter": "python",
   "file_extension": ".py"
  },
  "kernelspec": {
   "name": "python3",
   "display_name": "Python 3.8.8 64-bit ('base': conda)"
  },
  "interpreter": {
   "hash": "47f16cf2db301ca020c70ad2382a9973e74e33a9abe98abacd391802fe3c015e"
  }
 },
 "nbformat": 4,
 "nbformat_minor": 2
}